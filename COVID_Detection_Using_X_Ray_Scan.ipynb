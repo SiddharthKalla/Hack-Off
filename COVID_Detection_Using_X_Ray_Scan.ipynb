{
  "nbformat": 4,
  "nbformat_minor": 0,
  "metadata": {
    "colab": {
      "name": "COVID Detection Using X-Ray Scan.ipynb",
      "provenance": [],
      "collapsed_sections": []
    },
    "kernelspec": {
      "name": "python3",
      "display_name": "Python 3"
    },
    "accelerator": "GPU"
  },
  "cells": [
    {
      "cell_type": "code",
      "metadata": {
        "id": "OS7Bcawsk2Uq",
        "colab": {
          "base_uri": "https://localhost:8080/"
        },
        "outputId": "2ff2d2c0-0057-4912-9f6c-2e5c42029753"
      },
      "source": [
        "from tensorflow.keras.models import Sequential,Model\r\n",
        "from tensorflow.keras.layers import Conv2D\r\n",
        "from tensorflow.keras.layers import SeparableConv2D\r\n",
        "from tensorflow.keras.layers import Input \r\n",
        "from tensorflow.keras import callbacks\r\n",
        "from tensorflow.keras.layers import BatchNormalization\r\n",
        "from tensorflow.keras.layers import Dropout\r\n",
        "from tensorflow.keras.preprocessing.image import ImageDataGenerator\r\n",
        "from tensorflow.keras.layers import Flatten\r\n",
        "from tensorflow.keras.layers import MaxPooling2D\r\n",
        "from tensorflow.keras.layers import Dense\r\n",
        "from tensorflow.keras.regularizers import l2\r\n",
        "from tensorflow.keras.optimizers import Adam\r\n",
        "import h5py\r\n",
        "import tensorflow \r\n",
        "from tensorflow.keras.utils import to_categorical\r\n",
        "from sklearn.preprocessing import LabelBinarizer\r\n",
        "from sklearn.model_selection import train_test_split\r\n",
        "from sklearn.metrics import classification_report\r\n",
        "from sklearn.metrics import confusion_matrix\r\n",
        "#config = tensorflow.ConfigProto(allow_soft_placement=True)\r\n",
        "#config.gpu_options.per_process_gpu_memory_fraction = 0.9\r\n",
        "#sess=tensorflow.Session(config=config)\r\n",
        "import matplotlib.pyplot as plt\r\n",
        "import numpy as np\r\n",
        "from google.colab import drive\r\n",
        "drive.mount('/gdrive', force_remount=True)\r\n"
      ],
      "execution_count": null,
      "outputs": [
        {
          "output_type": "stream",
          "text": [
            "Mounted at /gdrive\n"
          ],
          "name": "stdout"
        }
      ]
    },
    {
      "cell_type": "code",
      "metadata": {
        "id": "oLDCW0-mL5sk",
        "colab": {
          "base_uri": "https://localhost:8080/"
        },
        "outputId": "2e3165c6-d96b-475d-b40e-6b0b4b94ddd8"
      },
      "source": [
        "#DATA PREPROCESSING\r\n",
        "\r\n",
        "INIT_LR = 1e-4\r\n",
        "EPOCHS = 75\r\n",
        "BS = 10\r\n",
        "train_data_dir = '/gdrive/My Drive/Colab Notebooks/dataset/train'\r\n",
        "validation_data_dir = '/gdrive/My Drive/Colab Notebooks/dataset/test'\r\n",
        "train_datagen = ImageDataGenerator(\r\n",
        "        rescale=1./255,\r\n",
        "        shear_range=0.2,\r\n",
        "        zoom_range=0.2,\r\n",
        "        horizontal_flip=True,\r\n",
        "        rotation_range=15,\r\n",
        "        fill_mode=\"nearest\")\r\n",
        "\r\n",
        "test_datagen = ImageDataGenerator(rescale=1./255)\r\n",
        "\r\n",
        "training_set = train_datagen.flow_from_directory(\r\n",
        "        train_data_dir,\r\n",
        "        target_size=(224, 224),\r\n",
        "        batch_size=BS,\r\n",
        "        class_mode='categorical')\r\n",
        "\r\n",
        "test_set = test_datagen.flow_from_directory(\r\n",
        "        validation_data_dir,\r\n",
        "        target_size=(224, 224),\r\n",
        "        batch_size=BS,\r\n",
        "        class_mode='categorical')"
      ],
      "execution_count": null,
      "outputs": [
        {
          "output_type": "stream",
          "text": [
            "Found 186 images belonging to 2 classes.\n",
            "Found 92 images belonging to 2 classes.\n"
          ],
          "name": "stdout"
        }
      ]
    },
    {
      "cell_type": "code",
      "metadata": {
        "id": "W8asIjLdL-nW",
        "colab": {
          "base_uri": "https://localhost:8080/"
        },
        "outputId": "6f7ba38e-929c-4652-da69-549b27bbeac8"
      },
      "source": [
        "def build_model():\r\n",
        "    input_img = Input(shape=(224,224,3), name='ImageInput')\r\n",
        "    x = Conv2D(64, (3,3), activation='relu', padding='same', name='Conv1_1')(input_img)\r\n",
        "    x = Conv2D(64, (3,3), activation='relu', padding='same', name='Conv1_2')(x)\r\n",
        "    x = MaxPooling2D((2,2), name='pool1')(x)\r\n",
        "    \r\n",
        "    x = SeparableConv2D(128, (3,3), activation='relu', padding='same', name='Conv2_1')(x)\r\n",
        "    x = SeparableConv2D(128, (3,3), activation='relu', padding='same', name='Conv2_2')(x)\r\n",
        "    x = MaxPooling2D((2,2), name='pool2')(x)\r\n",
        "    \r\n",
        "    x = SeparableConv2D(256, (3,3), activation='relu', padding='same', name='Conv3_1')(x)\r\n",
        "    x = BatchNormalization(name='bn1')(x)\r\n",
        "    x = SeparableConv2D(256, (3,3), activation='relu', padding='same', name='Conv3_2')(x)\r\n",
        "    x = BatchNormalization(name='bn2')(x)\r\n",
        "    x = SeparableConv2D(256, (3,3), activation='relu', padding='same', name='Conv3_3')(x)\r\n",
        "    x = MaxPooling2D((2,2), name='pool3')(x)\r\n",
        "    \r\n",
        "   # x = SeparableConv2D(512, (3,3), activation='relu', padding='same', name='Conv4_1')(x)\r\n",
        "   # x = BatchNormalization(name='bn3')(x)\r\n",
        "   # x = SeparableConv2D(512, (3,3), activation='relu', padding='same', name='Conv4_2')(x)\r\n",
        "   # x = BatchNormalization(name='bn4')(x)\r\n",
        "   # x = SeparableConv2D(512, (3,3), activation='relu', padding='same', name='Conv4_3')(x)\r\n",
        "    # x = MaxPooling2D((2,2), name='pool4')(x)\r\n",
        "    \r\n",
        "    x = Flatten(name='flatten')(x)\r\n",
        "    x = Dense(512, activation='relu', name='fc1')(x)\r\n",
        "    x = Dropout(0.5, name='dropout1')(x)\r\n",
        "    x = Dense(128, activation='relu', name='fc2')(x)\r\n",
        "    x = Dropout(0.5, name='dropout2')(x)\r\n",
        "    x = Dense(2, activation='softmax', name='fc3')(x)\r\n",
        "    \r\n",
        "    model = Model(inputs=input_img, outputs=x)\r\n",
        "    return model\r\n",
        "model =  build_model()\r\n",
        "model.summary()"
      ],
      "execution_count": null,
      "outputs": [
        {
          "output_type": "stream",
          "text": [
            "Model: \"functional_1\"\n",
            "_________________________________________________________________\n",
            "Layer (type)                 Output Shape              Param #   \n",
            "=================================================================\n",
            "ImageInput (InputLayer)      [(None, 224, 224, 3)]     0         \n",
            "_________________________________________________________________\n",
            "Conv1_1 (Conv2D)             (None, 224, 224, 64)      1792      \n",
            "_________________________________________________________________\n",
            "Conv1_2 (Conv2D)             (None, 224, 224, 64)      36928     \n",
            "_________________________________________________________________\n",
            "pool1 (MaxPooling2D)         (None, 112, 112, 64)      0         \n",
            "_________________________________________________________________\n",
            "Conv2_1 (SeparableConv2D)    (None, 112, 112, 128)     8896      \n",
            "_________________________________________________________________\n",
            "Conv2_2 (SeparableConv2D)    (None, 112, 112, 128)     17664     \n",
            "_________________________________________________________________\n",
            "pool2 (MaxPooling2D)         (None, 56, 56, 128)       0         \n",
            "_________________________________________________________________\n",
            "Conv3_1 (SeparableConv2D)    (None, 56, 56, 256)       34176     \n",
            "_________________________________________________________________\n",
            "bn1 (BatchNormalization)     (None, 56, 56, 256)       1024      \n",
            "_________________________________________________________________\n",
            "Conv3_2 (SeparableConv2D)    (None, 56, 56, 256)       68096     \n",
            "_________________________________________________________________\n",
            "bn2 (BatchNormalization)     (None, 56, 56, 256)       1024      \n",
            "_________________________________________________________________\n",
            "Conv3_3 (SeparableConv2D)    (None, 56, 56, 256)       68096     \n",
            "_________________________________________________________________\n",
            "pool3 (MaxPooling2D)         (None, 28, 28, 256)       0         \n",
            "_________________________________________________________________\n",
            "flatten (Flatten)            (None, 200704)            0         \n",
            "_________________________________________________________________\n",
            "fc1 (Dense)                  (None, 512)               102760960 \n",
            "_________________________________________________________________\n",
            "dropout1 (Dropout)           (None, 512)               0         \n",
            "_________________________________________________________________\n",
            "fc2 (Dense)                  (None, 128)               65664     \n",
            "_________________________________________________________________\n",
            "dropout2 (Dropout)           (None, 128)               0         \n",
            "_________________________________________________________________\n",
            "fc3 (Dense)                  (None, 2)                 258       \n",
            "=================================================================\n",
            "Total params: 103,064,578\n",
            "Trainable params: 103,063,554\n",
            "Non-trainable params: 1,024\n",
            "_________________________________________________________________\n"
          ],
          "name": "stdout"
        }
      ]
    },
    {
      "cell_type": "code",
      "metadata": {
        "id": "D5AK567OMDRO",
        "colab": {
          "base_uri": "https://localhost:8080/"
        },
        "outputId": "bbccb289-b343-4ba7-9df7-b6585691095c"
      },
      "source": [
        "#initialision cov2 weights from vgg16 imagenet \r\n",
        "f = h5py.File('/gdrive/My Drive/Colab Notebooks/vgg16_weights_tf_dim_ordering_tf_kernels_notop.h5', 'r')\r\n",
        "\r\n",
        "# Select the layers for which you want to set weight.\r\n",
        "\r\n",
        "w,b = f['block1_conv1']['block1_conv1_W_1:0'], f['block1_conv1']['block1_conv1_b_1:0']\r\n",
        "model.layers[1].set_weights = [w,b]\r\n",
        "\r\n",
        "w,b = f['block1_conv2']['block1_conv2_W_1:0'], f['block1_conv2']['block1_conv2_b_1:0']\r\n",
        "model.layers[2].set_weights = [w,b]\r\n",
        "\r\n",
        "w,b = f['block2_conv1']['block2_conv1_W_1:0'], f['block2_conv1']['block2_conv1_b_1:0']\r\n",
        "model.layers[4].set_weights = [w,b]\r\n",
        "\r\n",
        "w,b = f['block2_conv2']['block2_conv2_W_1:0'], f['block2_conv2']['block2_conv2_b_1:0']\r\n",
        "model.layers[5].set_weights = [w,b]\r\n",
        "\r\n",
        "f.close()\r\n",
        "model.summary()"
      ],
      "execution_count": null,
      "outputs": [
        {
          "output_type": "stream",
          "text": [
            "Model: \"functional_1\"\n",
            "_________________________________________________________________\n",
            "Layer (type)                 Output Shape              Param #   \n",
            "=================================================================\n",
            "ImageInput (InputLayer)      [(None, 224, 224, 3)]     0         \n",
            "_________________________________________________________________\n",
            "Conv1_1 (Conv2D)             (None, 224, 224, 64)      1792      \n",
            "_________________________________________________________________\n",
            "Conv1_2 (Conv2D)             (None, 224, 224, 64)      36928     \n",
            "_________________________________________________________________\n",
            "pool1 (MaxPooling2D)         (None, 112, 112, 64)      0         \n",
            "_________________________________________________________________\n",
            "Conv2_1 (SeparableConv2D)    (None, 112, 112, 128)     8896      \n",
            "_________________________________________________________________\n",
            "Conv2_2 (SeparableConv2D)    (None, 112, 112, 128)     17664     \n",
            "_________________________________________________________________\n",
            "pool2 (MaxPooling2D)         (None, 56, 56, 128)       0         \n",
            "_________________________________________________________________\n",
            "Conv3_1 (SeparableConv2D)    (None, 56, 56, 256)       34176     \n",
            "_________________________________________________________________\n",
            "bn1 (BatchNormalization)     (None, 56, 56, 256)       1024      \n",
            "_________________________________________________________________\n",
            "Conv3_2 (SeparableConv2D)    (None, 56, 56, 256)       68096     \n",
            "_________________________________________________________________\n",
            "bn2 (BatchNormalization)     (None, 56, 56, 256)       1024      \n",
            "_________________________________________________________________\n",
            "Conv3_3 (SeparableConv2D)    (None, 56, 56, 256)       68096     \n",
            "_________________________________________________________________\n",
            "pool3 (MaxPooling2D)         (None, 28, 28, 256)       0         \n",
            "_________________________________________________________________\n",
            "flatten (Flatten)            (None, 200704)            0         \n",
            "_________________________________________________________________\n",
            "fc1 (Dense)                  (None, 512)               102760960 \n",
            "_________________________________________________________________\n",
            "dropout1 (Dropout)           (None, 512)               0         \n",
            "_________________________________________________________________\n",
            "fc2 (Dense)                  (None, 128)               65664     \n",
            "_________________________________________________________________\n",
            "dropout2 (Dropout)           (None, 128)               0         \n",
            "_________________________________________________________________\n",
            "fc3 (Dense)                  (None, 2)                 258       \n",
            "=================================================================\n",
            "Total params: 103,064,578\n",
            "Trainable params: 103,063,554\n",
            "Non-trainable params: 1,024\n",
            "_________________________________________________________________\n"
          ],
          "name": "stdout"
        }
      ]
    },
    {
      "cell_type": "code",
      "metadata": {
        "id": "20F9wp0HMIPv",
        "colab": {
          "base_uri": "https://localhost:8080/"
        },
        "outputId": "918089f9-6732-42d6-fae4-c7f69807d22f"
      },
      "source": [
        "#Training phase\r\n",
        "opt = Adam(lr=0.0001, decay=1e-5)\r\n",
        "es = callbacks.EarlyStopping(patience=18)\r\n",
        "chkpt = callbacks.ModelCheckpoint(filepath='best_model_todate', save_best_only=True, save_weights_only=False)\r\n",
        "model.compile(loss='binary_crossentropy', metrics=['accuracy'],optimizer=opt)\r\n",
        "history =model.fit_generator(training_set,steps_per_epoch=186//BS,epochs=EPOCHS,validation_data=test_set,validation_steps=94//BS,callbacks=[es,chkpt])\r\n"
      ],
      "execution_count": null,
      "outputs": [
        {
          "output_type": "stream",
          "text": [
            "WARNING:tensorflow:From <ipython-input-8-a6193c7bc180>:6: Model.fit_generator (from tensorflow.python.keras.engine.training) is deprecated and will be removed in a future version.\n",
            "Instructions for updating:\n",
            "Please use Model.fit, which supports generators.\n",
            "Epoch 1/75\n",
            " 2/18 [==>...........................] - ETA: 1s - loss: 0.6933 - accuracy: 0.4500WARNING:tensorflow:Callbacks method `on_train_batch_end` is slow compared to the batch time (batch time: 0.0307s vs `on_train_batch_end` time: 0.1140s). Check your callbacks.\n",
            "18/18 [==============================] - ETA: 0s - loss: 0.6790 - accuracy: 0.6250WARNING:tensorflow:From /usr/local/lib/python3.6/dist-packages/tensorflow/python/training/tracking/tracking.py:111: Model.state_updates (from tensorflow.python.keras.engine.training) is deprecated and will be removed in a future version.\n",
            "Instructions for updating:\n",
            "This property should not be used in TensorFlow 2.0, as updates are applied automatically.\n",
            "WARNING:tensorflow:From /usr/local/lib/python3.6/dist-packages/tensorflow/python/training/tracking/tracking.py:111: Layer.updates (from tensorflow.python.keras.engine.base_layer) is deprecated and will be removed in a future version.\n",
            "Instructions for updating:\n",
            "This property should not be used in TensorFlow 2.0, as updates are applied automatically.\n",
            "INFO:tensorflow:Assets written to: best_model_todate/assets\n",
            "18/18 [==============================] - 62s 3s/step - loss: 0.6790 - accuracy: 0.6250 - val_loss: 0.6711 - val_accuracy: 0.7333\n",
            "Epoch 2/75\n",
            "18/18 [==============================] - 8s 449ms/step - loss: 0.5899 - accuracy: 0.7216 - val_loss: 0.7609 - val_accuracy: 0.2556\n",
            "Epoch 3/75\n",
            "18/18 [==============================] - 8s 465ms/step - loss: 0.3614 - accuracy: 0.8409 - val_loss: 0.8643 - val_accuracy: 0.2556\n",
            "Epoch 4/75\n",
            "18/18 [==============================] - 8s 460ms/step - loss: 0.3053 - accuracy: 0.8580 - val_loss: 0.9085 - val_accuracy: 0.2556\n",
            "Epoch 5/75\n",
            "18/18 [==============================] - 8s 470ms/step - loss: 0.2880 - accuracy: 0.9261 - val_loss: 0.8380 - val_accuracy: 0.2556\n",
            "Epoch 6/75\n",
            "18/18 [==============================] - 9s 480ms/step - loss: 0.2401 - accuracy: 0.9261 - val_loss: 0.9022 - val_accuracy: 0.2667\n",
            "Epoch 7/75\n",
            "18/18 [==============================] - 9s 476ms/step - loss: 0.2436 - accuracy: 0.8977 - val_loss: 0.8994 - val_accuracy: 0.2556\n",
            "Epoch 8/75\n",
            "18/18 [==============================] - 9s 473ms/step - loss: 0.2197 - accuracy: 0.9261 - val_loss: 0.9145 - val_accuracy: 0.2667\n",
            "Epoch 9/75\n",
            "18/18 [==============================] - 8s 463ms/step - loss: 0.2298 - accuracy: 0.9318 - val_loss: 0.8615 - val_accuracy: 0.2556\n",
            "Epoch 10/75\n",
            "18/18 [==============================] - 9s 481ms/step - loss: 0.1900 - accuracy: 0.9261 - val_loss: 0.8686 - val_accuracy: 0.2667\n",
            "Epoch 11/75\n",
            "18/18 [==============================] - 9s 486ms/step - loss: 0.2151 - accuracy: 0.9034 - val_loss: 0.8158 - val_accuracy: 0.2667\n",
            "Epoch 12/75\n",
            "18/18 [==============================] - 8s 472ms/step - loss: 0.2532 - accuracy: 0.9148 - val_loss: 0.8209 - val_accuracy: 0.2667\n",
            "Epoch 13/75\n",
            "18/18 [==============================] - 9s 485ms/step - loss: 0.2180 - accuracy: 0.9318 - val_loss: 0.8061 - val_accuracy: 0.2667\n",
            "Epoch 14/75\n",
            "18/18 [==============================] - 9s 474ms/step - loss: 0.1760 - accuracy: 0.9545 - val_loss: 0.8113 - val_accuracy: 0.2556\n",
            "Epoch 15/75\n",
            "18/18 [==============================] - 9s 491ms/step - loss: 0.1678 - accuracy: 0.9318 - val_loss: 0.7498 - val_accuracy: 0.2556\n",
            "Epoch 16/75\n",
            "18/18 [==============================] - 9s 473ms/step - loss: 0.1753 - accuracy: 0.9375 - val_loss: 0.7439 - val_accuracy: 0.2667\n",
            "Epoch 17/75\n",
            "18/18 [==============================] - 8s 462ms/step - loss: 0.1682 - accuracy: 0.9489 - val_loss: 0.7208 - val_accuracy: 0.2778\n",
            "Epoch 18/75\n",
            "18/18 [==============================] - 9s 478ms/step - loss: 0.1413 - accuracy: 0.9659 - val_loss: 0.7017 - val_accuracy: 0.2778\n",
            "Epoch 19/75\n",
            "18/18 [==============================] - ETA: 0s - loss: 0.1695 - accuracy: 0.9432INFO:tensorflow:Assets written to: best_model_todate/assets\n",
            "18/18 [==============================] - 15s 829ms/step - loss: 0.1695 - accuracy: 0.9432 - val_loss: 0.6382 - val_accuracy: 0.7667\n",
            "Epoch 20/75\n",
            "18/18 [==============================] - 8s 455ms/step - loss: 0.1493 - accuracy: 0.9545 - val_loss: 0.6416 - val_accuracy: 0.6222\n",
            "Epoch 21/75\n",
            "18/18 [==============================] - 8s 452ms/step - loss: 0.1958 - accuracy: 0.9278 - val_loss: 0.6425 - val_accuracy: 0.6444\n",
            "Epoch 22/75\n",
            "18/18 [==============================] - ETA: 0s - loss: 0.1714 - accuracy: 0.9489INFO:tensorflow:Assets written to: best_model_todate/assets\n",
            "18/18 [==============================] - 15s 824ms/step - loss: 0.1714 - accuracy: 0.9489 - val_loss: 0.5560 - val_accuracy: 0.9778\n",
            "Epoch 23/75\n",
            "18/18 [==============================] - ETA: 0s - loss: 0.1321 - accuracy: 0.9545INFO:tensorflow:Assets written to: best_model_todate/assets\n",
            "18/18 [==============================] - 28s 2s/step - loss: 0.1321 - accuracy: 0.9545 - val_loss: 0.5534 - val_accuracy: 0.9778\n",
            "Epoch 24/75\n",
            "18/18 [==============================] - ETA: 0s - loss: 0.1234 - accuracy: 0.9602INFO:tensorflow:Assets written to: best_model_todate/assets\n",
            "18/18 [==============================] - 31s 2s/step - loss: 0.1234 - accuracy: 0.9602 - val_loss: 0.5077 - val_accuracy: 0.9778\n",
            "Epoch 25/75\n",
            "18/18 [==============================] - 8s 463ms/step - loss: 0.1527 - accuracy: 0.9205 - val_loss: 0.5148 - val_accuracy: 0.9889\n",
            "Epoch 26/75\n",
            "18/18 [==============================] - ETA: 0s - loss: 0.1642 - accuracy: 0.9500INFO:tensorflow:Assets written to: best_model_todate/assets\n",
            "18/18 [==============================] - 22s 1s/step - loss: 0.1642 - accuracy: 0.9500 - val_loss: 0.4932 - val_accuracy: 0.9889\n",
            "Epoch 27/75\n",
            "18/18 [==============================] - ETA: 0s - loss: 0.1365 - accuracy: 0.9318INFO:tensorflow:Assets written to: best_model_todate/assets\n",
            "18/18 [==============================] - 26s 1s/step - loss: 0.1365 - accuracy: 0.9318 - val_loss: 0.4547 - val_accuracy: 0.9778\n",
            "Epoch 28/75\n",
            "18/18 [==============================] - 8s 463ms/step - loss: 0.1434 - accuracy: 0.9545 - val_loss: 0.4555 - val_accuracy: 0.9889\n",
            "Epoch 29/75\n",
            "18/18 [==============================] - ETA: 0s - loss: 0.1599 - accuracy: 0.9545INFO:tensorflow:Assets written to: best_model_todate/assets\n",
            "18/18 [==============================] - 22s 1s/step - loss: 0.1599 - accuracy: 0.9545 - val_loss: 0.4282 - val_accuracy: 0.9889\n",
            "Epoch 30/75\n",
            "18/18 [==============================] - ETA: 0s - loss: 0.1008 - accuracy: 0.9659INFO:tensorflow:Assets written to: best_model_todate/assets\n",
            "18/18 [==============================] - 31s 2s/step - loss: 0.1008 - accuracy: 0.9659 - val_loss: 0.3482 - val_accuracy: 0.9889\n",
            "Epoch 31/75\n",
            "18/18 [==============================] - ETA: 0s - loss: 0.1638 - accuracy: 0.9489INFO:tensorflow:Assets written to: best_model_todate/assets\n",
            "18/18 [==============================] - 31s 2s/step - loss: 0.1638 - accuracy: 0.9489 - val_loss: 0.2797 - val_accuracy: 0.9889\n",
            "Epoch 32/75\n",
            "18/18 [==============================] - 9s 480ms/step - loss: 0.1192 - accuracy: 0.9602 - val_loss: 0.3286 - val_accuracy: 0.9889\n",
            "Epoch 33/75\n",
            "18/18 [==============================] - ETA: 0s - loss: 0.1426 - accuracy: 0.9545INFO:tensorflow:Assets written to: best_model_todate/assets\n",
            "18/18 [==============================] - 22s 1s/step - loss: 0.1426 - accuracy: 0.9545 - val_loss: 0.2249 - val_accuracy: 0.9889\n",
            "Epoch 34/75\n",
            "18/18 [==============================] - ETA: 0s - loss: 0.1228 - accuracy: 0.9545INFO:tensorflow:Assets written to: best_model_todate/assets\n",
            "18/18 [==============================] - 26s 1s/step - loss: 0.1228 - accuracy: 0.9545 - val_loss: 0.1613 - val_accuracy: 0.9778\n",
            "Epoch 35/75\n",
            "18/18 [==============================] - 8s 462ms/step - loss: 0.1366 - accuracy: 0.9545 - val_loss: 0.2172 - val_accuracy: 0.9889\n",
            "Epoch 36/75\n",
            "18/18 [==============================] - 8s 456ms/step - loss: 0.1488 - accuracy: 0.9545 - val_loss: 0.1723 - val_accuracy: 0.9889\n",
            "Epoch 37/75\n",
            "18/18 [==============================] - ETA: 0s - loss: 0.1487 - accuracy: 0.9602INFO:tensorflow:Assets written to: best_model_todate/assets\n",
            "18/18 [==============================] - 15s 815ms/step - loss: 0.1487 - accuracy: 0.9602 - val_loss: 0.0952 - val_accuracy: 0.9778\n",
            "Epoch 38/75\n",
            "18/18 [==============================] - 8s 459ms/step - loss: 0.1349 - accuracy: 0.9489 - val_loss: 0.1113 - val_accuracy: 0.9889\n",
            "Epoch 39/75\n",
            "18/18 [==============================] - 8s 454ms/step - loss: 0.1680 - accuracy: 0.9318 - val_loss: 0.1671 - val_accuracy: 0.9889\n",
            "Epoch 40/75\n",
            "18/18 [==============================] - 8s 460ms/step - loss: 0.1257 - accuracy: 0.9489 - val_loss: 0.0961 - val_accuracy: 0.9889\n",
            "Epoch 41/75\n",
            "18/18 [==============================] - ETA: 0s - loss: 0.0963 - accuracy: 0.9773INFO:tensorflow:Assets written to: best_model_todate/assets\n",
            "18/18 [==============================] - 15s 806ms/step - loss: 0.0963 - accuracy: 0.9773 - val_loss: 0.0486 - val_accuracy: 0.9889\n",
            "Epoch 42/75\n",
            "18/18 [==============================] - ETA: 0s - loss: 0.1286 - accuracy: 0.9489INFO:tensorflow:Assets written to: best_model_todate/assets\n",
            "18/18 [==============================] - 27s 1s/step - loss: 0.1286 - accuracy: 0.9489 - val_loss: 0.0448 - val_accuracy: 0.9889\n",
            "Epoch 43/75\n",
            "18/18 [==============================] - 8s 460ms/step - loss: 0.1112 - accuracy: 0.9602 - val_loss: 0.0512 - val_accuracy: 0.9889\n",
            "Epoch 44/75\n",
            "18/18 [==============================] - 8s 469ms/step - loss: 0.1572 - accuracy: 0.9489 - val_loss: 0.0568 - val_accuracy: 0.9778\n",
            "Epoch 45/75\n",
            "18/18 [==============================] - 8s 452ms/step - loss: 0.1430 - accuracy: 0.9545 - val_loss: 0.0680 - val_accuracy: 0.9778\n",
            "Epoch 46/75\n",
            "18/18 [==============================] - ETA: 0s - loss: 0.1316 - accuracy: 0.9602INFO:tensorflow:Assets written to: best_model_todate/assets\n",
            "18/18 [==============================] - 15s 807ms/step - loss: 0.1316 - accuracy: 0.9602 - val_loss: 0.0317 - val_accuracy: 0.9889\n",
            "Epoch 47/75\n",
            "18/18 [==============================] - 8s 453ms/step - loss: 0.0961 - accuracy: 0.9545 - val_loss: 0.0479 - val_accuracy: 0.9778\n",
            "Epoch 48/75\n",
            "18/18 [==============================] - 8s 461ms/step - loss: 0.0923 - accuracy: 0.9659 - val_loss: 0.0624 - val_accuracy: 0.9778\n",
            "Epoch 49/75\n",
            "18/18 [==============================] - 8s 460ms/step - loss: 0.1413 - accuracy: 0.9432 - val_loss: 0.0440 - val_accuracy: 0.9778\n",
            "Epoch 50/75\n",
            "18/18 [==============================] - 8s 457ms/step - loss: 0.1197 - accuracy: 0.9444 - val_loss: 0.0419 - val_accuracy: 0.9889\n",
            "Epoch 51/75\n",
            "18/18 [==============================] - 8s 454ms/step - loss: 0.1150 - accuracy: 0.9602 - val_loss: 0.0431 - val_accuracy: 0.9889\n",
            "Epoch 52/75\n",
            "18/18 [==============================] - 8s 457ms/step - loss: 0.1073 - accuracy: 0.9545 - val_loss: 0.0401 - val_accuracy: 0.9889\n",
            "Epoch 53/75\n",
            "18/18 [==============================] - 8s 451ms/step - loss: 0.1292 - accuracy: 0.9659 - val_loss: 0.0359 - val_accuracy: 0.9889\n",
            "Epoch 54/75\n",
            "18/18 [==============================] - 8s 457ms/step - loss: 0.1319 - accuracy: 0.9716 - val_loss: 0.0430 - val_accuracy: 0.9889\n",
            "Epoch 55/75\n",
            "18/18 [==============================] - 8s 457ms/step - loss: 0.0790 - accuracy: 0.9830 - val_loss: 0.0341 - val_accuracy: 0.9889\n",
            "Epoch 56/75\n",
            "18/18 [==============================] - 8s 449ms/step - loss: 0.1252 - accuracy: 0.9545 - val_loss: 0.0567 - val_accuracy: 0.9778\n",
            "Epoch 57/75\n",
            "18/18 [==============================] - ETA: 0s - loss: 0.0667 - accuracy: 0.9659INFO:tensorflow:Assets written to: best_model_todate/assets\n",
            "18/18 [==============================] - 15s 828ms/step - loss: 0.0667 - accuracy: 0.9659 - val_loss: 0.0189 - val_accuracy: 0.9889\n",
            "Epoch 58/75\n",
            "18/18 [==============================] - 8s 459ms/step - loss: 0.1268 - accuracy: 0.9545 - val_loss: 0.0217 - val_accuracy: 0.9889\n",
            "Epoch 59/75\n",
            "18/18 [==============================] - 8s 445ms/step - loss: 0.1130 - accuracy: 0.9716 - val_loss: 0.0412 - val_accuracy: 0.9778\n",
            "Epoch 60/75\n",
            "18/18 [==============================] - 8s 462ms/step - loss: 0.1472 - accuracy: 0.9659 - val_loss: 0.0455 - val_accuracy: 0.9778\n",
            "Epoch 61/75\n",
            "18/18 [==============================] - 8s 457ms/step - loss: 0.1196 - accuracy: 0.9716 - val_loss: 0.0509 - val_accuracy: 0.9778\n",
            "Epoch 62/75\n",
            "18/18 [==============================] - 8s 455ms/step - loss: 0.0941 - accuracy: 0.9545 - val_loss: 0.0550 - val_accuracy: 0.9778\n",
            "Epoch 63/75\n",
            "18/18 [==============================] - 8s 457ms/step - loss: 0.1074 - accuracy: 0.9659 - val_loss: 0.0441 - val_accuracy: 0.9889\n",
            "Epoch 64/75\n",
            "18/18 [==============================] - 8s 460ms/step - loss: 0.0845 - accuracy: 0.9602 - val_loss: 0.0347 - val_accuracy: 0.9889\n",
            "Epoch 65/75\n",
            "18/18 [==============================] - 8s 458ms/step - loss: 0.0701 - accuracy: 0.9830 - val_loss: 0.0322 - val_accuracy: 0.9889\n",
            "Epoch 66/75\n",
            "18/18 [==============================] - 8s 465ms/step - loss: 0.1093 - accuracy: 0.9602 - val_loss: 0.0208 - val_accuracy: 0.9889\n",
            "Epoch 67/75\n",
            "18/18 [==============================] - 8s 466ms/step - loss: 0.1109 - accuracy: 0.9602 - val_loss: 0.0404 - val_accuracy: 0.9889\n",
            "Epoch 68/75\n",
            "18/18 [==============================] - 8s 444ms/step - loss: 0.0913 - accuracy: 0.9659 - val_loss: 0.0471 - val_accuracy: 0.9889\n",
            "Epoch 69/75\n",
            "18/18 [==============================] - 8s 455ms/step - loss: 0.0876 - accuracy: 0.9659 - val_loss: 0.0314 - val_accuracy: 0.9889\n",
            "Epoch 70/75\n",
            "18/18 [==============================] - 8s 460ms/step - loss: 0.0962 - accuracy: 0.9716 - val_loss: 0.0868 - val_accuracy: 0.9556\n",
            "Epoch 71/75\n",
            "18/18 [==============================] - 8s 462ms/step - loss: 0.0660 - accuracy: 0.9716 - val_loss: 0.0424 - val_accuracy: 0.9778\n",
            "Epoch 72/75\n",
            "18/18 [==============================] - 8s 459ms/step - loss: 0.0862 - accuracy: 0.9545 - val_loss: 0.0868 - val_accuracy: 0.9667\n",
            "Epoch 73/75\n",
            "18/18 [==============================] - 8s 455ms/step - loss: 0.0966 - accuracy: 0.9773 - val_loss: 0.0447 - val_accuracy: 0.9889\n",
            "Epoch 74/75\n",
            "18/18 [==============================] - 8s 458ms/step - loss: 0.1299 - accuracy: 0.9545 - val_loss: 0.0333 - val_accuracy: 0.9889\n",
            "Epoch 75/75\n",
            "18/18 [==============================] - 8s 455ms/step - loss: 0.0695 - accuracy: 0.9773 - val_loss: 0.0332 - val_accuracy: 0.9889\n"
          ],
          "name": "stdout"
        }
      ]
    },
    {
      "cell_type": "code",
      "metadata": {
        "id": "GjFrMTo2MMjc"
      },
      "source": [
        "import tensorflow as tf\r\n",
        "tf.keras.models.save_model(model, 'my_model3.hdf5')"
      ],
      "execution_count": null,
      "outputs": []
    },
    {
      "cell_type": "code",
      "metadata": {
        "colab": {
          "base_uri": "https://localhost:8080/",
          "height": 1000
        },
        "id": "LzSt2xbnZqYM",
        "outputId": "7a923658-e98e-43bd-a7bc-a8e79561cbf1"
      },
      "source": [
        "! pip install streamlit"
      ],
      "execution_count": null,
      "outputs": [
        {
          "output_type": "stream",
          "text": [
            "Collecting streamlit\n",
            "\u001b[?25l  Downloading https://files.pythonhosted.org/packages/a3/3b/8b70128553de980a5120b512c8eedc3667deced9554fc399703414b1d8cf/streamlit-0.72.0-py2.py3-none-any.whl (7.4MB)\n",
            "\u001b[K     |████████████████████████████████| 7.4MB 16.0MB/s \n",
            "\u001b[?25hRequirement already satisfied: requests in /usr/local/lib/python3.6/dist-packages (from streamlit) (2.23.0)\n",
            "Requirement already satisfied: pillow>=6.2.0 in /usr/local/lib/python3.6/dist-packages (from streamlit) (7.0.0)\n",
            "Collecting validators\n",
            "  Downloading https://files.pythonhosted.org/packages/41/4a/3360ff3cf2b4a1b9721ac1fbff5f84663f41047d9874b3aa1ac82e862c44/validators-0.18.1-py3-none-any.whl\n",
            "Requirement already satisfied: protobuf!=3.11,>=3.6.0 in /usr/local/lib/python3.6/dist-packages (from streamlit) (3.12.4)\n",
            "Requirement already satisfied: altair>=3.2.0 in /usr/local/lib/python3.6/dist-packages (from streamlit) (4.1.0)\n",
            "Requirement already satisfied: python-dateutil in /usr/local/lib/python3.6/dist-packages (from streamlit) (2.8.1)\n",
            "Collecting watchdog\n",
            "\u001b[?25l  Downloading https://files.pythonhosted.org/packages/e6/76/39d123d37908a772b6a281d85fbb4384d9db7e13d19d10ad409006bd2962/watchdog-1.0.1.tar.gz (97kB)\n",
            "\u001b[K     |████████████████████████████████| 102kB 14.6MB/s \n",
            "\u001b[?25hCollecting gitpython\n",
            "\u001b[?25l  Downloading https://files.pythonhosted.org/packages/24/d1/a7f8fe3df258549b303415157328bfcc63e9b11d06a7ad7a3327f3d32606/GitPython-3.1.11-py3-none-any.whl (159kB)\n",
            "\u001b[K     |████████████████████████████████| 163kB 54.0MB/s \n",
            "\u001b[?25hRequirement already satisfied: packaging in /usr/local/lib/python3.6/dist-packages (from streamlit) (20.7)\n",
            "Collecting base58\n",
            "  Downloading https://files.pythonhosted.org/packages/3c/03/58572025c77b9e6027155b272a1b96298e711cd4f95c24967f7137ab0c4b/base58-2.0.1-py3-none-any.whl\n",
            "Collecting pydeck>=0.1.dev5\n",
            "\u001b[?25l  Downloading https://files.pythonhosted.org/packages/9e/9d/8fbf1f56cc5891e6c3295bf94fc176e9ab0a3ffdd090cc8b354ac2640f9a/pydeck-0.5.0-py2.py3-none-any.whl (4.5MB)\n",
            "\u001b[K     |████████████████████████████████| 4.5MB 50.5MB/s \n",
            "\u001b[?25hRequirement already satisfied: pandas>=0.21.0 in /usr/local/lib/python3.6/dist-packages (from streamlit) (1.1.5)\n",
            "Requirement already satisfied: numpy in /usr/local/lib/python3.6/dist-packages (from streamlit) (1.18.5)\n",
            "Requirement already satisfied: pyarrow in /usr/local/lib/python3.6/dist-packages (from streamlit) (0.14.1)\n",
            "Requirement already satisfied: tzlocal in /usr/local/lib/python3.6/dist-packages (from streamlit) (1.5.1)\n",
            "Collecting blinker\n",
            "\u001b[?25l  Downloading https://files.pythonhosted.org/packages/1b/51/e2a9f3b757eb802f61dc1f2b09c8c99f6eb01cf06416c0671253536517b6/blinker-1.4.tar.gz (111kB)\n",
            "\u001b[K     |████████████████████████████████| 112kB 51.8MB/s \n",
            "\u001b[?25hRequirement already satisfied: cachetools>=4.0 in /usr/local/lib/python3.6/dist-packages (from streamlit) (4.1.1)\n",
            "Requirement already satisfied: toml in /usr/local/lib/python3.6/dist-packages (from streamlit) (0.10.2)\n",
            "Requirement already satisfied: astor in /usr/local/lib/python3.6/dist-packages (from streamlit) (0.8.1)\n",
            "Requirement already satisfied: tornado>=5.0 in /usr/local/lib/python3.6/dist-packages (from streamlit) (5.1.1)\n",
            "Requirement already satisfied: click>=7.0 in /usr/local/lib/python3.6/dist-packages (from streamlit) (7.1.2)\n",
            "Requirement already satisfied: urllib3!=1.25.0,!=1.25.1,<1.26,>=1.21.1 in /usr/local/lib/python3.6/dist-packages (from requests->streamlit) (1.24.3)\n",
            "Requirement already satisfied: certifi>=2017.4.17 in /usr/local/lib/python3.6/dist-packages (from requests->streamlit) (2020.12.5)\n",
            "Requirement already satisfied: idna<3,>=2.5 in /usr/local/lib/python3.6/dist-packages (from requests->streamlit) (2.10)\n",
            "Requirement already satisfied: chardet<4,>=3.0.2 in /usr/local/lib/python3.6/dist-packages (from requests->streamlit) (3.0.4)\n",
            "Requirement already satisfied: decorator>=3.4.0 in /usr/local/lib/python3.6/dist-packages (from validators->streamlit) (4.4.2)\n",
            "Requirement already satisfied: six>=1.4.0 in /usr/local/lib/python3.6/dist-packages (from validators->streamlit) (1.15.0)\n",
            "Requirement already satisfied: setuptools in /usr/local/lib/python3.6/dist-packages (from protobuf!=3.11,>=3.6.0->streamlit) (50.3.2)\n",
            "Requirement already satisfied: jsonschema in /usr/local/lib/python3.6/dist-packages (from altair>=3.2.0->streamlit) (2.6.0)\n",
            "Requirement already satisfied: entrypoints in /usr/local/lib/python3.6/dist-packages (from altair>=3.2.0->streamlit) (0.3)\n",
            "Requirement already satisfied: jinja2 in /usr/local/lib/python3.6/dist-packages (from altair>=3.2.0->streamlit) (2.11.2)\n",
            "Requirement already satisfied: toolz in /usr/local/lib/python3.6/dist-packages (from altair>=3.2.0->streamlit) (0.11.1)\n",
            "Collecting gitdb<5,>=4.0.1\n",
            "\u001b[?25l  Downloading https://files.pythonhosted.org/packages/48/11/d1800bca0a3bae820b84b7d813ad1eff15a48a64caea9c823fc8c1b119e8/gitdb-4.0.5-py3-none-any.whl (63kB)\n",
            "\u001b[K     |████████████████████████████████| 71kB 10.9MB/s \n",
            "\u001b[?25hRequirement already satisfied: pyparsing>=2.0.2 in /usr/local/lib/python3.6/dist-packages (from packaging->streamlit) (2.4.7)\n",
            "Collecting ipykernel>=5.1.2; python_version >= \"3.4\"\n",
            "\u001b[?25l  Downloading https://files.pythonhosted.org/packages/56/c5/97a972202414c79c28814b1450a31a89777638fb3524e8b5b686a5436abe/ipykernel-5.4.2-py3-none-any.whl (119kB)\n",
            "\u001b[K     |████████████████████████████████| 122kB 60.1MB/s \n",
            "\u001b[?25hRequirement already satisfied: ipywidgets>=7.0.0 in /usr/local/lib/python3.6/dist-packages (from pydeck>=0.1.dev5->streamlit) (7.5.1)\n",
            "Requirement already satisfied: traitlets>=4.3.2 in /usr/local/lib/python3.6/dist-packages (from pydeck>=0.1.dev5->streamlit) (4.3.3)\n",
            "Requirement already satisfied: pytz>=2017.2 in /usr/local/lib/python3.6/dist-packages (from pandas>=0.21.0->streamlit) (2018.9)\n",
            "Requirement already satisfied: MarkupSafe>=0.23 in /usr/local/lib/python3.6/dist-packages (from jinja2->altair>=3.2.0->streamlit) (1.1.1)\n",
            "Collecting smmap<4,>=3.0.1\n",
            "  Downloading https://files.pythonhosted.org/packages/b0/9a/4d409a6234eb940e6a78dfdfc66156e7522262f5f2fecca07dc55915952d/smmap-3.0.4-py2.py3-none-any.whl\n",
            "Requirement already satisfied: jupyter-client in /usr/local/lib/python3.6/dist-packages (from ipykernel>=5.1.2; python_version >= \"3.4\"->pydeck>=0.1.dev5->streamlit) (5.3.5)\n",
            "Requirement already satisfied: ipython>=5.0.0 in /usr/local/lib/python3.6/dist-packages (from ipykernel>=5.1.2; python_version >= \"3.4\"->pydeck>=0.1.dev5->streamlit) (5.5.0)\n",
            "Requirement already satisfied: nbformat>=4.2.0 in /usr/local/lib/python3.6/dist-packages (from ipywidgets>=7.0.0->pydeck>=0.1.dev5->streamlit) (5.0.8)\n",
            "Requirement already satisfied: widgetsnbextension~=3.5.0 in /usr/local/lib/python3.6/dist-packages (from ipywidgets>=7.0.0->pydeck>=0.1.dev5->streamlit) (3.5.1)\n",
            "Requirement already satisfied: ipython-genutils in /usr/local/lib/python3.6/dist-packages (from traitlets>=4.3.2->pydeck>=0.1.dev5->streamlit) (0.2.0)\n",
            "Requirement already satisfied: jupyter-core>=4.6.0 in /usr/local/lib/python3.6/dist-packages (from jupyter-client->ipykernel>=5.1.2; python_version >= \"3.4\"->pydeck>=0.1.dev5->streamlit) (4.7.0)\n",
            "Requirement already satisfied: pyzmq>=13 in /usr/local/lib/python3.6/dist-packages (from jupyter-client->ipykernel>=5.1.2; python_version >= \"3.4\"->pydeck>=0.1.dev5->streamlit) (20.0.0)\n",
            "Requirement already satisfied: pickleshare in /usr/local/lib/python3.6/dist-packages (from ipython>=5.0.0->ipykernel>=5.1.2; python_version >= \"3.4\"->pydeck>=0.1.dev5->streamlit) (0.7.5)\n",
            "Requirement already satisfied: pygments in /usr/local/lib/python3.6/dist-packages (from ipython>=5.0.0->ipykernel>=5.1.2; python_version >= \"3.4\"->pydeck>=0.1.dev5->streamlit) (2.6.1)\n",
            "Requirement already satisfied: pexpect; sys_platform != \"win32\" in /usr/local/lib/python3.6/dist-packages (from ipython>=5.0.0->ipykernel>=5.1.2; python_version >= \"3.4\"->pydeck>=0.1.dev5->streamlit) (4.8.0)\n",
            "Requirement already satisfied: prompt-toolkit<2.0.0,>=1.0.4 in /usr/local/lib/python3.6/dist-packages (from ipython>=5.0.0->ipykernel>=5.1.2; python_version >= \"3.4\"->pydeck>=0.1.dev5->streamlit) (1.0.18)\n",
            "Requirement already satisfied: simplegeneric>0.8 in /usr/local/lib/python3.6/dist-packages (from ipython>=5.0.0->ipykernel>=5.1.2; python_version >= \"3.4\"->pydeck>=0.1.dev5->streamlit) (0.8.1)\n",
            "Requirement already satisfied: notebook>=4.4.1 in /usr/local/lib/python3.6/dist-packages (from widgetsnbextension~=3.5.0->ipywidgets>=7.0.0->pydeck>=0.1.dev5->streamlit) (5.3.1)\n",
            "Requirement already satisfied: ptyprocess>=0.5 in /usr/local/lib/python3.6/dist-packages (from pexpect; sys_platform != \"win32\"->ipython>=5.0.0->ipykernel>=5.1.2; python_version >= \"3.4\"->pydeck>=0.1.dev5->streamlit) (0.6.0)\n",
            "Requirement already satisfied: wcwidth in /usr/local/lib/python3.6/dist-packages (from prompt-toolkit<2.0.0,>=1.0.4->ipython>=5.0.0->ipykernel>=5.1.2; python_version >= \"3.4\"->pydeck>=0.1.dev5->streamlit) (0.2.5)\n",
            "Requirement already satisfied: nbconvert in /usr/local/lib/python3.6/dist-packages (from notebook>=4.4.1->widgetsnbextension~=3.5.0->ipywidgets>=7.0.0->pydeck>=0.1.dev5->streamlit) (5.6.1)\n",
            "Requirement already satisfied: Send2Trash in /usr/local/lib/python3.6/dist-packages (from notebook>=4.4.1->widgetsnbextension~=3.5.0->ipywidgets>=7.0.0->pydeck>=0.1.dev5->streamlit) (1.5.0)\n",
            "Requirement already satisfied: terminado>=0.8.1 in /usr/local/lib/python3.6/dist-packages (from notebook>=4.4.1->widgetsnbextension~=3.5.0->ipywidgets>=7.0.0->pydeck>=0.1.dev5->streamlit) (0.9.1)\n",
            "Requirement already satisfied: mistune<2,>=0.8.1 in /usr/local/lib/python3.6/dist-packages (from nbconvert->notebook>=4.4.1->widgetsnbextension~=3.5.0->ipywidgets>=7.0.0->pydeck>=0.1.dev5->streamlit) (0.8.4)\n",
            "Requirement already satisfied: bleach in /usr/local/lib/python3.6/dist-packages (from nbconvert->notebook>=4.4.1->widgetsnbextension~=3.5.0->ipywidgets>=7.0.0->pydeck>=0.1.dev5->streamlit) (3.2.1)\n",
            "Requirement already satisfied: defusedxml in /usr/local/lib/python3.6/dist-packages (from nbconvert->notebook>=4.4.1->widgetsnbextension~=3.5.0->ipywidgets>=7.0.0->pydeck>=0.1.dev5->streamlit) (0.6.0)\n",
            "Requirement already satisfied: pandocfilters>=1.4.1 in /usr/local/lib/python3.6/dist-packages (from nbconvert->notebook>=4.4.1->widgetsnbextension~=3.5.0->ipywidgets>=7.0.0->pydeck>=0.1.dev5->streamlit) (1.4.3)\n",
            "Requirement already satisfied: testpath in /usr/local/lib/python3.6/dist-packages (from nbconvert->notebook>=4.4.1->widgetsnbextension~=3.5.0->ipywidgets>=7.0.0->pydeck>=0.1.dev5->streamlit) (0.4.4)\n",
            "Requirement already satisfied: webencodings in /usr/local/lib/python3.6/dist-packages (from bleach->nbconvert->notebook>=4.4.1->widgetsnbextension~=3.5.0->ipywidgets>=7.0.0->pydeck>=0.1.dev5->streamlit) (0.5.1)\n",
            "Building wheels for collected packages: watchdog, blinker\n",
            "  Building wheel for watchdog (setup.py) ... \u001b[?25l\u001b[?25hdone\n",
            "  Created wheel for watchdog: filename=watchdog-1.0.1-cp36-none-any.whl size=72206 sha256=8a9a2ef1181312ce2db42561bca512a877e0e54e81a856b3a72ead81f0ccf15d\n",
            "  Stored in directory: /root/.cache/pip/wheels/d8/ce/d8/31a48288b5728794feda5ac479fa324cc1cde4398c29eff064\n",
            "  Building wheel for blinker (setup.py) ... \u001b[?25l\u001b[?25hdone\n",
            "  Created wheel for blinker: filename=blinker-1.4-cp36-none-any.whl size=13450 sha256=ac5fd11084933fb8bc6e13df76325fc159940f11bac3e2ab30b93dc36f7e48a8\n",
            "  Stored in directory: /root/.cache/pip/wheels/92/a0/00/8690a57883956a301d91cf4ec999cc0b258b01e3f548f86e89\n",
            "Successfully built watchdog blinker\n",
            "\u001b[31mERROR: google-colab 1.0.0 has requirement ipykernel~=4.10, but you'll have ipykernel 5.4.2 which is incompatible.\u001b[0m\n",
            "Installing collected packages: validators, watchdog, smmap, gitdb, gitpython, base58, ipykernel, pydeck, blinker, streamlit\n",
            "  Found existing installation: ipykernel 4.10.1\n",
            "    Uninstalling ipykernel-4.10.1:\n",
            "      Successfully uninstalled ipykernel-4.10.1\n",
            "Successfully installed base58-2.0.1 blinker-1.4 gitdb-4.0.5 gitpython-3.1.11 ipykernel-5.4.2 pydeck-0.5.0 smmap-3.0.4 streamlit-0.72.0 validators-0.18.1 watchdog-1.0.1\n"
          ],
          "name": "stdout"
        },
        {
          "output_type": "display_data",
          "data": {
            "application/vnd.colab-display-data+json": {
              "pip_warning": {
                "packages": [
                  "ipykernel"
                ]
              }
            }
          },
          "metadata": {
            "tags": []
          }
        }
      ]
    },
    {
      "cell_type": "code",
      "metadata": {
        "id": "AgQoE1-zbecn",
        "colab": {
          "base_uri": "https://localhost:8080/"
        },
        "outputId": "a120dd4c-b5d9-4f44-c233-5aa24845d633"
      },
      "source": [
        "!pip install pyngrok"
      ],
      "execution_count": null,
      "outputs": [
        {
          "output_type": "stream",
          "text": [
            "Collecting pyngrok\n",
            "  Downloading https://files.pythonhosted.org/packages/ea/63/e086f165125e9bf2e71c0db2955911baaaa0af8947ab5c7b3771bdf4d4d5/pyngrok-5.0.0.tar.gz\n",
            "Requirement already satisfied: PyYAML in /usr/local/lib/python3.6/dist-packages (from pyngrok) (3.13)\n",
            "Building wheels for collected packages: pyngrok\n",
            "  Building wheel for pyngrok (setup.py) ... \u001b[?25l\u001b[?25hdone\n",
            "  Created wheel for pyngrok: filename=pyngrok-5.0.0-cp36-none-any.whl size=18781 sha256=0e679cbddff5e1758800ce0dd94731ed1409bb3d2f29f710f76aa041d5033f87\n",
            "  Stored in directory: /root/.cache/pip/wheels/95/df/23/af8dde08c3fcdc7b966adcacef48ab29aa3b0b1860df5d2b79\n",
            "Successfully built pyngrok\n",
            "Installing collected packages: pyngrok\n",
            "Successfully installed pyngrok-5.0.0\n"
          ],
          "name": "stdout"
        }
      ]
    },
    {
      "cell_type": "code",
      "metadata": {
        "colab": {
          "base_uri": "https://localhost:8080/"
        },
        "id": "csCEt8W-fn4Q",
        "outputId": "eb1572ee-8834-4063-bdf3-f692dbbd6422"
      },
      "source": [
        "%%writefile app.py\r\n",
        "import streamlit as st\r\n",
        "import tensorflow as tf\r\n",
        "\r\n",
        "st.set_option('deprecation.showfileUploaderEncoding', False)\r\n",
        "@st.cache(allow.output_mutation=True)\r\n",
        "def load_model():\r\n",
        "  model = tf.keras.models.load_model('/content/my_model3.hdf5')\r\n",
        "  return model\r\n",
        "model = load_model()\r\n",
        "st.write(\"\"\"\r\n",
        "         # Covid-19 Chest X-Ray Classification\r\n",
        "         \"\"\"\r\n",
        "         )\r\n",
        "file = st.file_uploader(\"Upload X-Ray\", type=[\"jpg\",\"png\"])\r\n",
        "import cv2\r\n",
        "from PIL import Image, ImageOps\r\n",
        "import numpy as np\r\n",
        "def import_and_predict(image_data, model):\r\n",
        "  \r\n",
        "  \r\n",
        "  testimg1=image.img_to_array(image_data)\r\n",
        "  testimg1=np.expand_dims(testimg1,axis=0)\r\n",
        "  testimg1= testimg1/255.0\r\n",
        "  result=model.predict(testimg1)\r\n",
        "  return result\r\n",
        "  \r\n",
        "if file is None:\r\n",
        "  st.text(\"Please upload an image file\")\r\n",
        "else:\r\n",
        "  image = Image.open(file)\r\n",
        "  st.image(image, use_column_width = True)\r\n",
        "  predictions = import_and_predict(image, model)\r\n",
        "  st.success(predictions)"
      ],
      "execution_count": null,
      "outputs": [
        {
          "output_type": "stream",
          "text": [
            "Writing app.py\n"
          ],
          "name": "stdout"
        }
      ]
    },
    {
      "cell_type": "code",
      "metadata": {
        "colab": {
          "base_uri": "https://localhost:8080/"
        },
        "id": "Lui6WEs4f6Iu",
        "outputId": "19421c89-68c4-4ddf-acf7-bb71e717bceb"
      },
      "source": [
        "!ngrok authtoken 1lb8FTI46c53Aw30WVeZstIUXOo_6cpvf2nhZXwbaHvwehn9w"
      ],
      "execution_count": null,
      "outputs": [
        {
          "output_type": "stream",
          "text": [
            "Authtoken saved to configuration file: /root/.ngrok2/ngrok.yml\n"
          ],
          "name": "stdout"
        }
      ]
    },
    {
      "cell_type": "code",
      "metadata": {
        "colab": {
          "base_uri": "https://localhost:8080/"
        },
        "id": "ONDpT63YgjzO",
        "outputId": "2f13ac88-192f-418d-a670-a55e779e5770"
      },
      "source": [
        "!nohup streamlit run app.py &"
      ],
      "execution_count": null,
      "outputs": [
        {
          "output_type": "stream",
          "text": [
            "nohup: appending output to 'nohup.out'\n"
          ],
          "name": "stdout"
        }
      ]
    },
    {
      "cell_type": "code",
      "metadata": {
        "colab": {
          "base_uri": "https://localhost:8080/"
        },
        "id": "P12iUp7-gnhf",
        "outputId": "264098a0-5331-4517-b68a-ce78032af832"
      },
      "source": [
        "!pgrep streamlit"
      ],
      "execution_count": null,
      "outputs": [
        {
          "output_type": "stream",
          "text": [
            "1395\n"
          ],
          "name": "stdout"
        }
      ]
    },
    {
      "cell_type": "code",
      "metadata": {
        "colab": {
          "base_uri": "https://localhost:8080/"
        },
        "id": "Of__F8b-gtvi",
        "outputId": "c3eb4a31-ff6a-41f9-fc11-d2ef4ab0c11c"
      },
      "source": [
        "from pyngrok import ngrok\r\n",
        "publ_url = ngrok.connect(port=8501)\r\n",
        "publ_url"
      ],
      "execution_count": null,
      "outputs": [
        {
          "output_type": "execute_result",
          "data": {
            "text/plain": [
              "<NgrokTunnel: \"http://9e03386bacf5.ngrok.io\" -> \"http://localhost:80\">"
            ]
          },
          "metadata": {
            "tags": []
          },
          "execution_count": 25
        }
      ]
    },
    {
      "cell_type": "code",
      "metadata": {
        "id": "wRjakKpSMQov",
        "colab": {
          "base_uri": "https://localhost:8080/"
        },
        "outputId": "26240006-cfb6-4d49-e475-5377a1fb43b5"
      },
      "source": [
        "from tensorflow.keras.preprocessing import image\r\n",
        "testimg=image.load_img(\"/gdrive/My Drive/Colab Notebooks/1-s2.0-S1684118220300608-main.pdf-001.jpg\",target_size=(224, 224))\r\n",
        "testimg=image.img_to_array(testimg)\r\n",
        "testimg=np.expand_dims(testimg,axis=0)\r\n",
        "testimg= testimg/255.0\r\n",
        "result1=model.predict(testimg)\r\n",
        "print(result1)\r\n",
        "print(training_set.class_indices)"
      ],
      "execution_count": null,
      "outputs": [
        {
          "output_type": "stream",
          "text": [
            "[[0.9771672 0.0228328]]\n",
            "{'covid': 0, 'normal': 1}\n"
          ],
          "name": "stdout"
        }
      ]
    }
  ]
}